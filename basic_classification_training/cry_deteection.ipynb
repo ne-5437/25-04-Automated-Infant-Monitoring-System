{
 "cells": [
  {
   "cell_type": "code",
   "execution_count": 1,
   "id": "8ddeded5",
   "metadata": {},
   "outputs": [
    {
     "name": "stdout",
     "output_type": "stream",
     "text": [
      "      sound_type  sound_level_dB  threshold_dB  detected\n",
      "0     soft sound            49.6            50     False\n",
      "1     soft sound            34.9            50     False\n",
      "2  ambient noise            28.3            50     False\n",
      "3  ambient noise            23.1            50     False\n",
      "4     loud sound            71.6            50      True\n",
      "Artificial LM393 sound detection dataset generated.\n"
     ]
    }
   ],
   "source": [
    "import pandas as pd\n",
    "import random\n",
    "\n",
    "# Number of data points\n",
    "num_samples = 1000\n",
    "\n",
    "# Define sound level ranges for different sound types\n",
    "sound_ranges = {\n",
    "    'soft sound': (30, 60),    # Soft sounds (e.g., a baby cooing)\n",
    "    'loud sound': (60, 90),     # Loud sounds (e.g., a baby crying)\n",
    "    'ambient noise': (20, 40)   # Background noise (e.g., TV, chatter)\n",
    "}\n",
    "\n",
    "# Define detection threshold\n",
    "detection_threshold = 50  # dB\n",
    "\n",
    "# Data generation\n",
    "data = []\n",
    "\n",
    "for i in range(num_samples):\n",
    "    # Randomly select sound type\n",
    "    sound_type = random.choice(['soft sound', 'loud sound', 'ambient noise'])\n",
    "    \n",
    "    # Generate random sound level based on the sound type\n",
    "    sound_level = round(random.uniform(*sound_ranges[sound_type]), 1)\n",
    "    \n",
    "    # Determine if sound is detected based on the threshold\n",
    "    detected = sound_level > detection_threshold\n",
    "    \n",
    "    # Append the generated data\n",
    "    data.append({\n",
    "        'sound_type': sound_type,\n",
    "        'sound_level_dB': sound_level,\n",
    "        'threshold_dB': detection_threshold,\n",
    "        'detected': detected\n",
    "    })\n",
    "\n",
    "# Convert to DataFrame\n",
    "df = pd.DataFrame(data)\n",
    "\n",
    "# Display the first few rows of the dataset\n",
    "print(df.head())\n",
    "\n",
    "# Save to CSV\n",
    "df.to_csv('lm393_sound_detection_data.csv', index=False)\n",
    "\n",
    "print(\"Artificial LM393 sound detection dataset generated.\")"
   ]
  },
  {
   "cell_type": "code",
   "execution_count": null,
   "id": "fe2de68b",
   "metadata": {},
   "outputs": [],
   "source": []
  }
 ],
 "metadata": {
  "kernelspec": {
   "display_name": "Python 3 (ipykernel)",
   "language": "python",
   "name": "python3"
  },
  "language_info": {
   "codemirror_mode": {
    "name": "ipython",
    "version": 3
   },
   "file_extension": ".py",
   "mimetype": "text/x-python",
   "name": "python",
   "nbconvert_exporter": "python",
   "pygments_lexer": "ipython3",
   "version": "3.11.9"
  }
 },
 "nbformat": 4,
 "nbformat_minor": 5
}
