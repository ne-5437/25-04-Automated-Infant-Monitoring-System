{
 "cells": [
  {
   "cell_type": "code",
   "execution_count": 1,
   "id": "8060dd53",
   "metadata": {},
   "outputs": [
    {
     "name": "stdout",
     "output_type": "stream",
     "text": [
      "   spo2_percentage  heart_rate_bpm  temperature_celsius\n",
      "0             98.7           139.7                 38.9\n",
      "1             99.6           132.5                 36.2\n",
      "2             95.9           126.8                 37.3\n",
      "3             92.9           152.6                 35.8\n",
      "4             93.8           143.5                 35.9\n",
      "Artificial MAX30100/MAX30102 pulse oximeter dataset generated.\n"
     ]
    }
   ],
   "source": [
    "import pandas as pd\n",
    "import random\n",
    "\n",
    "# Number of data points\n",
    "num_samples = 1000\n",
    "\n",
    "# Data generation\n",
    "data = []\n",
    "\n",
    "for i in range(num_samples):\n",
    "    # Generate random SpO2 and heart rate readings\n",
    "    if random.random() < 0.1:  # 10% chance of worst-case scenario\n",
    "        spo2 = random.uniform(70, 89)  # Worst-case SpO2 below 90%\n",
    "        heart_rate = random.uniform(30, 59) if random.random() < 0.5 else random.uniform(180, 240)  # Heart rate below 60 or above 180\n",
    "    else:\n",
    "        spo2 = random.uniform(90, 100)  # Best-case SpO2\n",
    "        heart_rate = random.uniform(120, 160)  # Normal heart rate for infants\n",
    "\n",
    "    # Generate a reasonable temperature reading\n",
    "    temperature = random.uniform(35, 39)  # Typical infant temperature range\n",
    "    \n",
    "    # Append the generated data\n",
    "    data.append({\n",
    "        'spo2_percentage': round(spo2, 1),\n",
    "        'heart_rate_bpm': round(heart_rate, 1),\n",
    "        'temperature_celsius': round(temperature, 1)\n",
    "    })\n",
    "\n",
    "# Convert to DataFrame\n",
    "df = pd.DataFrame(data)\n",
    "\n",
    "# Display the first few rows of the dataset\n",
    "print(df.head())\n",
    "\n",
    "# Save to CSV\n",
    "df.to_csv('max30100_max30102_pulse_oximeter_data.csv', index=False)\n",
    "\n",
    "print(\"Artificial MAX30100/MAX30102 pulse oximeter dataset generated.\")"
   ]
  },
  {
   "cell_type": "code",
   "execution_count": null,
   "id": "20db1e8a",
   "metadata": {},
   "outputs": [],
   "source": []
  }
 ],
 "metadata": {
  "kernelspec": {
   "display_name": "Python 3 (ipykernel)",
   "language": "python",
   "name": "python3"
  },
  "language_info": {
   "codemirror_mode": {
    "name": "ipython",
    "version": 3
   },
   "file_extension": ".py",
   "mimetype": "text/x-python",
   "name": "python",
   "nbconvert_exporter": "python",
   "pygments_lexer": "ipython3",
   "version": "3.11.9"
  }
 },
 "nbformat": 4,
 "nbformat_minor": 5
}
