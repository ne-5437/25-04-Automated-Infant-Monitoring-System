{
 "cells": [
  {
   "cell_type": "code",
   "execution_count": 5,
   "id": "a24586b5",
   "metadata": {},
   "outputs": [
    {
     "name": "stdout",
     "output_type": "stream",
     "text": [
      "Artificial breathing dataset generated:\n",
      "  breathing_pattern  breath_amplitude  breath_frequency\n",
      "0         irregular             2.188                20\n",
      "1             apnea             0.000                 0\n",
      "2           shallow             0.287                23\n",
      "3              deep             3.032                10\n",
      "4            normal             2.698                17\n"
     ]
    }
   ],
   "source": [
    "import pandas as pd\n",
    "import random\n",
    "\n",
    "# Parameters\n",
    "num_samples = 1000\n",
    "breath_amplitude = {\n",
    "    \"normal\": (0.5, 3.0),     # Normal amplitude range in volts\n",
    "    \"deep\": (3.0, 5.0),       # Deep breathing amplitude\n",
    "    \"shallow\": (0.1, 1.0),    # Shallow breathing amplitude\n",
    "    \"apnea\": (0.0, 0.0),      # No breathing\n",
    "    \"irregular\": (0.1, 4.0)   # Irregular breathing amplitude\n",
    "}\n",
    "breath_frequency = {\n",
    "    \"normal\": (12, 20),       # Normal breathing frequency in BPM\n",
    "    \"deep\": (8, 12),          # Deep breathing\n",
    "    \"shallow\": (20, 30),      # Rapid shallow breaths\n",
    "    \"apnea\": (0, 0),          # No breathing\n",
    "    \"irregular\": (5, 30)      # Irregular breathing rates\n",
    "}\n",
    "breathing_patterns = ['normal', 'deep', 'shallow', 'apnea', 'irregular']\n",
    "\n",
    "# Data generation\n",
    "data = []\n",
    "\n",
    "for i in range(num_samples):\n",
    "    pattern = random.choice(breathing_patterns)\n",
    "    amplitude_range = breath_amplitude[pattern]\n",
    "    frequency_range = breath_frequency[pattern]\n",
    "    \n",
    "    # Generate random values within the range for amplitude and frequency\n",
    "    amplitude = round(random.uniform(*amplitude_range), 3)\n",
    "    frequency = random.randint(*frequency_range)\n",
    "    \n",
    "    \n",
    "    # Append the data\n",
    "    data.append({\n",
    "        \"breathing_pattern\": pattern,\n",
    "        \"breath_amplitude\": amplitude,\n",
    "        \"breath_frequency\": frequency\n",
    "    })\n",
    "\n",
    "# Convert to DataFrame\n",
    "df = pd.DataFrame(data)\n",
    "\n",
    "# Save to CSV for later use\n",
    "df.to_csv('piezoelectric_breathing_data.csv', index=False)\n",
    "\n",
    "print(\"Artificial breathing dataset generated:\")\n",
    "print(df.head())"
   ]
  },
  {
   "cell_type": "code",
   "execution_count": null,
   "id": "8a727ad1",
   "metadata": {},
   "outputs": [],
   "source": []
  },
  {
   "cell_type": "code",
   "execution_count": null,
   "id": "f35d1521",
   "metadata": {},
   "outputs": [],
   "source": []
  }
 ],
 "metadata": {
  "kernelspec": {
   "display_name": "Python 3 (ipykernel)",
   "language": "python",
   "name": "python3"
  },
  "language_info": {
   "codemirror_mode": {
    "name": "ipython",
    "version": 3
   },
   "file_extension": ".py",
   "mimetype": "text/x-python",
   "name": "python",
   "nbconvert_exporter": "python",
   "pygments_lexer": "ipython3",
   "version": "3.11.9"
  }
 },
 "nbformat": 4,
 "nbformat_minor": 5
}
