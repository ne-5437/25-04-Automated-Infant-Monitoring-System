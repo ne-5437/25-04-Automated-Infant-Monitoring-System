{
 "cells": [
  {
   "cell_type": "code",
   "execution_count": 1,
   "id": "3602d500",
   "metadata": {},
   "outputs": [
    {
     "name": "stdout",
     "output_type": "stream",
     "text": [
      "       movement_type  accel_x  accel_y  accel_z  gyro_x  gyro_y  gyro_z\n",
      "0              still   0.0494   0.0083   0.0074   0.474   4.342   1.430\n",
      "1             normal   0.2442   0.2984   0.2057  21.545  25.042  29.325\n",
      "2  shifting position   0.3345   0.4477   0.3041  43.409  64.558  48.564\n",
      "3    adjusting limbs   0.3155   0.3929   0.2817  18.260  24.847  21.136\n",
      "4             normal   0.0659   0.2536   0.0509  19.082  25.375  29.021\n",
      "Artificial MPU-6050 baby movement dataset generated.\n"
     ]
    }
   ],
   "source": [
    "import pandas as pd\n",
    "import random\n",
    "\n",
    "# Number of data points\n",
    "num_samples = 1000\n",
    "\n",
    "# Movement types\n",
    "movement_types = ['normal', 'rolling over', 'shifting position', 'adjusting limbs', 'still']\n",
    "\n",
    "# Define ranges for accelerometer (in g) and gyroscope (in °/s) based on movement types\n",
    "accel_ranges = {\n",
    "    'normal': (0.05, 0.3),  # Small, consistent movements\n",
    "    'rolling over': (0.5, 1.5),  # Larger, more pronounced movements\n",
    "    'shifting position': (0.3, 0.7),  # Moderate movements\n",
    "    'adjusting limbs': (0.1, 0.4),  # Minor movements\n",
    "    'still': (0.0, 0.05)  # No or very little movement\n",
    "}\n",
    "\n",
    "gyro_ranges = {\n",
    "    'normal': (5, 30),  # Small rotational movements\n",
    "    'rolling over': (50, 150),  # Significant rotational movements\n",
    "    'shifting position': (20, 70),  # Moderate rotational movements\n",
    "    'adjusting limbs': (10, 40),  # Minor rotational adjustments\n",
    "    'still': (0, 5)  # Little to no movement\n",
    "}\n",
    "\n",
    "# Data generation\n",
    "data = []\n",
    "\n",
    "for i in range(num_samples):\n",
    "    movement = random.choice(movement_types)\n",
    "    \n",
    "    # Generate random accelerometer and gyroscope values within the ranges\n",
    "    accel_x = round(random.uniform(*accel_ranges[movement]), 4)\n",
    "    accel_y = round(random.uniform(*accel_ranges[movement]), 4)\n",
    "    accel_z = round(random.uniform(*accel_ranges[movement]), 4)\n",
    "    \n",
    "    gyro_x = round(random.uniform(*gyro_ranges[movement]), 3)\n",
    "    gyro_y = round(random.uniform(*gyro_ranges[movement]), 3)\n",
    "    gyro_z = round(random.uniform(*gyro_ranges[movement]), 3)\n",
    "    \n",
    "    # Append the generated data\n",
    "    data.append({\n",
    "        'movement_type': movement,\n",
    "        'accel_x': accel_x,\n",
    "        'accel_y': accel_y,\n",
    "        'accel_z': accel_z,\n",
    "        'gyro_x': gyro_x,\n",
    "        'gyro_y': gyro_y,\n",
    "        'gyro_z': gyro_z\n",
    "    })\n",
    "\n",
    "# Convert to DataFrame\n",
    "df = pd.DataFrame(data)\n",
    "\n",
    "# Display the first few rows of the dataset\n",
    "print(df.head())\n",
    "\n",
    "# Save to CSV\n",
    "df.to_csv('mpu6050_baby_movement_data.csv', index=False)\n",
    "\n",
    "print(\"Artificial MPU-6050 baby movement dataset generated.\")"
   ]
  },
  {
   "cell_type": "code",
   "execution_count": null,
   "id": "54ede2c4",
   "metadata": {},
   "outputs": [],
   "source": []
  }
 ],
 "metadata": {
  "kernelspec": {
   "display_name": "Python 3 (ipykernel)",
   "language": "python",
   "name": "python3"
  },
  "language_info": {
   "codemirror_mode": {
    "name": "ipython",
    "version": 3
   },
   "file_extension": ".py",
   "mimetype": "text/x-python",
   "name": "python",
   "nbconvert_exporter": "python",
   "pygments_lexer": "ipython3",
   "version": "3.11.9"
  }
 },
 "nbformat": 4,
 "nbformat_minor": 5
}
