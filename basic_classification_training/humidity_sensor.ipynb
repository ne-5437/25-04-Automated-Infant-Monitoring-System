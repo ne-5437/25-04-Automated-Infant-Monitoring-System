{
 "cells": [
  {
   "cell_type": "code",
   "execution_count": 1,
   "id": "934a2283",
   "metadata": {},
   "outputs": [
    {
     "name": "stdout",
     "output_type": "stream",
     "text": [
      "   humidity_percentage  temperature_celsius\n",
      "0                 40.7                 24.0\n",
      "1                 75.3                 36.6\n",
      "2                 67.9                 13.8\n",
      "3                 32.4                  0.9\n",
      "4                 29.5                 49.9\n",
      "Artificial DHT11 humidity sensor dataset generated without timestamp and condition.\n"
     ]
    }
   ],
   "source": [
    "import pandas as pd\n",
    "import random\n",
    "\n",
    "# Number of data points\n",
    "num_samples = 1000\n",
    "\n",
    "# Data generation\n",
    "data = []\n",
    "\n",
    "for i in range(num_samples):\n",
    "    # Generate random humidity and temperature readings\n",
    "    humidity = random.uniform(20, 80)  # Humidity range from 20% to 80%\n",
    "    temperature = random.uniform(0, 50)  # Temperature range from 0°C to 50°C\n",
    "\n",
    "    # Append the generated data\n",
    "    data.append({\n",
    "        'humidity_percentage': round(humidity, 1),\n",
    "        'temperature_celsius': round(temperature, 1)\n",
    "    })\n",
    "\n",
    "# Convert to DataFrame\n",
    "df = pd.DataFrame(data)\n",
    "\n",
    "# Display the first few rows of the dataset\n",
    "print(df.head())\n",
    "\n",
    "# Save to CSV\n",
    "df.to_csv('dht11_humidity_sensor_data.csv', index=False)\n",
    "\n",
    "print(\"Artificial DHT11 humidity sensor dataset generated without timestamp and condition.\")"
   ]
  },
  {
   "cell_type": "code",
   "execution_count": null,
   "id": "6c6943fc",
   "metadata": {},
   "outputs": [],
   "source": []
  }
 ],
 "metadata": {
  "kernelspec": {
   "display_name": "Python 3 (ipykernel)",
   "language": "python",
   "name": "python3"
  },
  "language_info": {
   "codemirror_mode": {
    "name": "ipython",
    "version": 3
   },
   "file_extension": ".py",
   "mimetype": "text/x-python",
   "name": "python",
   "nbconvert_exporter": "python",
   "pygments_lexer": "ipython3",
   "version": "3.11.9"
  }
 },
 "nbformat": 4,
 "nbformat_minor": 5
}
